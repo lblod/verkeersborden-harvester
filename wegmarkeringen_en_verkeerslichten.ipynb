{
  "nbformat": 4,
  "nbformat_minor": 0,
  "metadata": {
    "colab": {
      "name": "wegmarkeringen en verkeerslichten.ipynb",
      "provenance": [],
      "collapsed_sections": []
    },
    "kernelspec": {
      "name": "python3",
      "display_name": "Python 3"
    },
    "language_info": {
      "name": "python"
    }
  },
  "cells": [
    {
      "cell_type": "code",
      "metadata": {
        "colab": {
          "base_uri": "https://localhost:8080/"
        },
        "id": "DdH-hgXzbbAK",
        "outputId": "1d95938f-c534-450e-e091-b55883121f4a"
      },
      "source": [
        "pip install rdflib"
      ],
      "execution_count": null,
      "outputs": [
        {
          "output_type": "stream",
          "text": [
            "Requirement already satisfied: rdflib in /usr/local/lib/python3.7/dist-packages (6.0.0)\n",
            "Requirement already satisfied: setuptools in /usr/local/lib/python3.7/dist-packages (from rdflib) (57.4.0)\n",
            "Requirement already satisfied: pyparsing in /usr/local/lib/python3.7/dist-packages (from rdflib) (2.4.7)\n",
            "Requirement already satisfied: isodate in /usr/local/lib/python3.7/dist-packages (from rdflib) (0.6.0)\n",
            "Requirement already satisfied: six in /usr/local/lib/python3.7/dist-packages (from isodate->rdflib) (1.15.0)\n"
          ],
          "name": "stdout"
        }
      ]
    },
    {
      "cell_type": "code",
      "metadata": {
        "id": "Fi2iGNs4aDNQ"
      },
      "source": [
        "import pandas as pd;\n",
        "import numpy as np; \n",
        "\n",
        "from rdflib import Graph, Literal, RDF, URIRef, Namespace , BNode\n",
        "from rdflib.namespace import FOAF , XSD, DC, FOAF, SKOS, RDF, RDFS\n",
        "import urllib.parse \n",
        "import hashlib\n",
        "import uuid"
      ],
      "execution_count": null,
      "outputs": []
    },
    {
      "cell_type": "code",
      "metadata": {
        "id": "Cj_Sqge7sIyc"
      },
      "source": [
        "pd.set_option('display.max_colwidth', 0)"
      ],
      "execution_count": null,
      "outputs": []
    },
    {
      "cell_type": "markdown",
      "metadata": {
        "id": "Yi5QcYXmgRf5"
      },
      "source": [
        "## CONSTANTS"
      ]
    },
    {
      "cell_type": "code",
      "metadata": {
        "id": "89iO-d6deUVf"
      },
      "source": [
        "ROAD_SIGN_DATA_SET = 'https://raw.githubusercontent.com/lblod/app-mow-registry/main/config/migrations/20190821152302-verkeersborden.ttl'\n",
        "\n",
        "traffic_light_concept = Namespace('http://data.vlaanderen.be/id/concept/Verkeerslichtconcept/')\n",
        "road_marking_concept = Namespace('http://data.vlaanderen.be/id/concept/Wegmarkeringsconcept/')"
      ],
      "execution_count": null,
      "outputs": []
    },
    {
      "cell_type": "markdown",
      "metadata": {
        "id": "ip2fg_MugWay"
      },
      "source": [
        "## Helper functions"
      ]
    },
    {
      "cell_type": "code",
      "metadata": {
        "id": "IJrplsWkh8EC"
      },
      "source": [
        "def concept_uri(base_uri, input):\n",
        "  m = hashlib.md5()\n",
        "  m.update(input.encode('utf-8'))\n",
        "\n",
        "  return (URIRef(base_uri + m.hexdigest()), m.hexdigest())\n",
        "\n",
        "def add_literal(g, subject, predicate, object_value, datatype=None):\n",
        "  if object_value != str(np.nan):\n",
        "    if datatype == None:\n",
        "      g.add((subject, predicate, Literal(object_value, lang='nl')))\n",
        "    else:\n",
        "      g.add((subject, predicate, Literal(object_value, datatype=datatype)))\n",
        "\n",
        "verkeersborden = Graph().parse(ROAD_SIGN_DATA_SET, format='turtle')\n",
        "\n",
        "def find_road_sign(code):\n",
        "  r = verkeersborden.query(\"SELECT ?s WHERE {{?s <http://www.w3.org/2004/02/skos/core#prefLabel> \\\"{0}\\\"}}\".format(code))\n",
        "  return next(x for x in r)[0]"
      ],
      "execution_count": null,
      "outputs": []
    },
    {
      "cell_type": "markdown",
      "metadata": {
        "id": "MKBcdW5-gdRf"
      },
      "source": [
        "## Harvest HTML pages"
      ]
    },
    {
      "cell_type": "code",
      "metadata": {
        "id": "_gbTIjYwccjp"
      },
      "source": [
        "dfl = pd.read_html('/content/drive/MyDrive/colab_data/LijstVerkeersSignalisatieLichtenIcon.html')[0];  "
      ],
      "execution_count": null,
      "outputs": []
    },
    {
      "cell_type": "code",
      "metadata": {
        "id": "FmbLjRshaSrd"
      },
      "source": [
        "dfm = pd.read_html('/content/drive/MyDrive/colab_data/LijstVerkeersSignalisatieWegIcon.html')[0];  "
      ],
      "execution_count": null,
      "outputs": []
    },
    {
      "cell_type": "code",
      "metadata": {
        "id": "CUmTZ-vBfeJZ"
      },
      "source": [
        "dfm['code'] = 'WM' + dfm['Plaatsing'].str.extract(r'([67]\\d[.\\d]*)')[0].str.rstrip('.')\n",
        "#FIXME : hack to avoid non unique code. Two definitions/variations under same article in wegcode \n",
        "dfm.loc[dfm['opschrift'] == 'Onderbroken trekken dichter bij elkaar','code'] = 'WM72.3.b'"
      ],
      "execution_count": null,
      "outputs": []
    },
    {
      "cell_type": "code",
      "metadata": {
        "id": "q2FrN7iQE1he"
      },
      "source": [
        "dfl['code'] = 'VL' + dfl['Plaatsing'].str.replace(' ','').str.extract(r'([67]\\d[.\\d]*(bis)?(ter)?)')[0].str.rstrip('.')\n"
      ],
      "execution_count": null,
      "outputs": []
    },
    {
      "cell_type": "code",
      "metadata": {
        "id": "cAk28H7BGn9S"
      },
      "source": [
        "dfl['related'] = dfl['Combinatie'] \\\n",
        "  .str.replace('LiFP','LiFV, LiFO')\\\n",
        "  .str.replace('LI', 'Li') \\\n",
        "  .str.replace('VO', 'Vo') \\\n",
        "  .str.findall(r'(Li[\\d\\w]*)')\n",
        "dfl['related'] = dfl['related'].apply(lambda d: d if isinstance(d, list) else [])"
      ],
      "execution_count": null,
      "outputs": []
    },
    {
      "cell_type": "code",
      "metadata": {
        "id": "pftMnDQMTrjn"
      },
      "source": [
        "dfm['related'] = dfm[dfm.Combinatie.notnull()]['Combinatie'].apply(find_road_sign)"
      ],
      "execution_count": null,
      "outputs": []
    },
    {
      "cell_type": "code",
      "metadata": {
        "id": "4Eu0nMHiMHOy"
      },
      "source": [
        "dfl['related'] = dfl['related'].apply(lambda d: d if isinstance(d, list) else [])"
      ],
      "execution_count": null,
      "outputs": []
    },
    {
      "cell_type": "code",
      "metadata": {
        "id": "q3xEZdtdLnMj"
      },
      "source": [
        "dfm.code.fillna(dfm.Benaming, inplace=True)\n"
      ],
      "execution_count": null,
      "outputs": []
    },
    {
      "cell_type": "code",
      "metadata": {
        "id": "UZqUxB0chxa0"
      },
      "source": [
        "dfl['uri'], dfl['uuid'] = zip(*dfl['code'].apply(lambda x: concept_uri(traffic_light_concept, x)))\n",
        "dfm['uri'], dfm['uuid'] = zip(*dfm['code'].apply(lambda x: concept_uri(road_marking_concept, x)))"
      ],
      "execution_count": null,
      "outputs": []
    },
    {
      "cell_type": "markdown",
      "metadata": {
        "id": "tB2sFUEqbrOU"
      },
      "source": [
        "# Graph"
      ]
    },
    {
      "cell_type": "markdown",
      "metadata": {
        "id": "IZjRlQbzczaC"
      },
      "source": [
        "VerkeersbordConcept basis\n",
        "```\n",
        "<http://data.vlaanderen.be/id/concept/Verkeersbordconcept/00939dd22288b0ef321908552d49f97c6e77e53de6e14b303f32c9a499839557> a <https://data.vlaanderen.be/ns/mobiliteit#Verkeersbordconcept>;\n",
        "   <http://mu.semte.ch/vocabularies/core/uuid> \"00939dd22288b0ef321908552d49f97c6e77e53de6e14b303f32c9a499839557\";\n",
        "   <http://www.w3.org/2003/06/sw-vocab-status/ns#termStatus> <http://mow.lblod.info/VerkeersbordconceptStatus/de811976b13d96ba62aec77411a88d0ad9afc573221f2c8dee979cd8106ea77b>;\n",
        "   <http://www.w3.org/2004/02/skos/core#definition> \"Smalle doorgang. Voorrang ten opzichte van de bestuurders die uit de tegenovergestelde richting komen.\";\n",
        "   <http://www.w3.org/2004/02/skos/core#inScheme> <http://data.vlaanderen.be/id/conceptscheme/Verkeersbordconcept>;\n",
        "   <http://www.w3.org/2004/02/skos/core#prefLabel> \"B21\";\n",
        "   <http://www.w3.org/2004/02/skos/core#scopeNote> \"Smalle doorgang. Voorrang ten opzichte van de bestuurders die uit de tegenovergestelde richting komen.\";\n",
        "   <http://www.w3.org/2004/02/skos/core#topConceptOf> <http://data.vlaanderen.be/id/conceptscheme/Verkeersbordconcept>;\n",
        "   <http://www.w3.org/ns/org#classification> <http://data.vlaanderen.be/id/concept/Verkeersbordcatergorie/737da5751bc7f311398a834f34df310dd95255a0b62afa2db2882c72d54b47d2>;\n",
        "   <https://data.vlaanderen.be/ns/mobiliteit#grafischeWeergave> <http://mobiliteit.vo.data.gift/images/efc5dcdd73633d3a864dea5e8d4ed57da8a6bb5bab78883d17302899ccaf0d06> .\n",
        "```\n",
        "\n"
      ]
    },
    {
      "cell_type": "code",
      "metadata": {
        "id": "M3gK3mEy7kD5"
      },
      "source": [
        ""
      ],
      "execution_count": null,
      "outputs": []
    },
    {
      "cell_type": "code",
      "metadata": {
        "id": "8-YVkGAcMyYq"
      },
      "source": [
        "g = Graph()\n",
        "f = Graph()"
      ],
      "execution_count": null,
      "outputs": []
    },
    {
      "cell_type": "code",
      "metadata": {
        "id": "X93XoSwHb3o_"
      },
      "source": [
        "for index, row in dfl.iterrows():\n",
        "  s = row['uri']\n",
        "  g.add((s, RDF.type, URIRef('https://data.vlaanderen.be/ns/mobiliteit#Verkeerslichtconcept')))\n",
        "  g.add((s, URIRef('http://mu.semte.ch/vocabularies/core/uuid'), Literal(row['uuid'])))\n",
        "  #TODO\n",
        "  g.add((s, URIRef('http://www.w3.org/2003/06/sw-vocab-status/ns#termStatus'), URIRef('http://mow.lblod.info/VerkeersbordconceptStatus/de811976b13d96ba62aec77411a88d0ad9afc573221f2c8dee979cd8106ea77b')))\n",
        "  add_literal(g, s, SKOS.definition, row['opschrift'])\n",
        "  add_literal(g, s, SKOS.scopeNote, row['Betekenis'])\n",
        "  g.add((s, SKOS.inScheme, URIRef('http://data.vlaanderen.be/id/conceptscheme/Verkeerslichtconcept')))\n",
        "  g.add((s, SKOS.prefLabel, Literal(row['code'])))\n",
        "  g.add((s, SKOS.topConceptOf, URIRef('http://data.vlaanderen.be/id/conceptscheme/Verkeerslichtconcept')))\n",
        "  #TODO\n",
        "  g.add((s, URIRef('http://www.w3.org/ns/org#classification'), URIRef('http://data.vlaanderen.be/id/concept/Verkeersbordcatergorie/737da5751bc7f311398a834f34df310dd95255a0b62afa2db2882c72d54b47d2')))\n",
        "  #TODO\n",
        "  g.add((s, URIRef('https://data.vlaanderen.be/ns/mobiliteit#grafischeWeergave'), URIRef('http://localhost/assets/' + row['Icoon'])))\n",
        "  for value in row['related']:\n",
        "    u = dfl[dfl['Benaming'] == value]['uri']\n",
        "    if not u.empty:\n",
        "      g.add((s, URIRef('http://data.lblod.info/vocabularies/mobiliteit/heeftGerelateerdVerkeerslichtconcept'), URIRef(u.iloc[0])))\n",
        "    else:\n",
        "      print(\"Not found:\" + value)"
      ],
      "execution_count": null,
      "outputs": []
    },
    {
      "cell_type": "code",
      "metadata": {
        "colab": {
          "base_uri": "https://localhost:8080/"
        },
        "id": "ok60poaDNelZ",
        "outputId": "d40b6730-9a33-404a-cb31-f2f81b2df4ae"
      },
      "source": [
        "print(g.serialize(format='turtle'))"
      ],
      "execution_count": null,
      "outputs": [
        {
          "output_type": "stream",
          "text": [
            "@prefix ns1: <http://data.lblod.info/vocabularies/mobiliteit/> .\n",
            "@prefix ns2: <http://www.w3.org/2004/02/skos/core#> .\n",
            "@prefix ns3: <http://www.w3.org/2003/06/sw-vocab-status/ns#> .\n",
            "@prefix ns4: <https://data.vlaanderen.be/ns/mobiliteit#> .\n",
            "@prefix ns5: <http://mu.semte.ch/vocabularies/core/> .\n",
            "@prefix ns6: <http://www.w3.org/ns/org#> .\n",
            "\n",
            "<http://data.vlaanderen.be/id/concept/Verkeerslichtconcept/41b57854c253fb185a69a9168e94c2e9> a ns4:Verkeerslichtconcept ;\n",
            "    ns5:uuid \"41b57854c253fb185a69a9168e94c2e9\" ;\n",
            "    ns3:termStatus <http://mow.lblod.info/VerkeersbordconceptStatus/de811976b13d96ba62aec77411a88d0ad9afc573221f2c8dee979cd8106ea77b> ;\n",
            "    ns2:definition \"Oranje knipperlicht\"@nl ;\n",
            "    ns2:inScheme <http://data.vlaanderen.be/id/conceptscheme/Verkeerslichtconcept> ;\n",
            "    ns2:prefLabel \"VL64\" ;\n",
            "    ns2:scopeNote \"een oranjegeel knipperlicht betekent dat het verkeerslicht met dubbele voorzichtigheid mag voorbij gereden worden; het wijzigt de voorrangsregeling niet.\"@nl ;\n",
            "    ns2:topConceptOf <http://data.vlaanderen.be/id/conceptscheme/Verkeerslichtconcept> ;\n",
            "    ns6:classification <http://data.vlaanderen.be/id/concept/Verkeersbordcatergorie/737da5751bc7f311398a834f34df310dd95255a0b62afa2db2882c72d54b47d2> ;\n",
            "    ns4:grafischeWeergave <http://localhost/assets/Oranjeknipperlicht.png> .\n",
            "\n",
            "<http://data.vlaanderen.be/id/concept/Verkeerslichtconcept/9c78205e98520de0e6d683e97179ba57> a ns4:Verkeerslichtconcept ;\n",
            "    ns5:uuid \"9c78205e98520de0e6d683e97179ba57\" ;\n",
            "    ns3:termStatus <http://mow.lblod.info/VerkeersbordconceptStatus/de811976b13d96ba62aec77411a88d0ad9afc573221f2c8dee979cd8106ea77b> ;\n",
            "    ns2:definition \"Verkeerslicht boven rijstrook\"@nl ;\n",
            "    ns2:inScheme <http://data.vlaanderen.be/id/conceptscheme/Verkeerslichtconcept> ;\n",
            "    ns2:prefLabel \"VL62bis\" ;\n",
            "    ns2:scopeNote \"de bestuurders moeten de verkeerslichten opvolgen die boven de rijstroken of andere delen van de openbare weg naar hen gericht zijn.\"@nl ;\n",
            "    ns2:topConceptOf <http://data.vlaanderen.be/id/conceptscheme/Verkeerslichtconcept> ;\n",
            "    ns6:classification <http://data.vlaanderen.be/id/concept/Verkeersbordcatergorie/737da5751bc7f311398a834f34df310dd95255a0b62afa2db2882c72d54b47d2> ;\n",
            "    ns4:grafischeWeergave <http://localhost/assets/Rijstrooklichten.png> .\n",
            "\n",
            "<http://data.vlaanderen.be/id/concept/Verkeerslichtconcept/ae0b8b2540921e82de0df629ec17622c> a ns4:Verkeerslichtconcept ;\n",
            "    ns5:uuid \"ae0b8b2540921e82de0df629ec17622c\" ;\n",
            "    ns3:termStatus <http://mow.lblod.info/VerkeersbordconceptStatus/de811976b13d96ba62aec77411a88d0ad9afc573221f2c8dee979cd8106ea77b> ;\n",
            "    ns2:definition \"Lichten voor geregelde diensten voor gemeenschappelijk vervoer\"@nl ;\n",
            "    ns2:inScheme <http://data.vlaanderen.be/id/conceptscheme/Verkeerslichtconcept> ;\n",
            "    ns2:prefLabel \"VL62ter\" ;\n",
            "    ns2:scopeNote \"de bestuurders van voertuigen van geregelde diensten voor gemeenschappelijk vervoer moeten de bijzondere verkeerslichten voor het regelen van het verkeer van voertuigen van geregelde diensten voor gemeenschappelijk vervoer opvolgen. Hetzelfde geldt voor de andere bestuurders die op de bijzondere overrijdbare bedding rijden.\"@nl ;\n",
            "    ns2:topConceptOf <http://data.vlaanderen.be/id/conceptscheme/Verkeerslichtconcept> ;\n",
            "    ns6:classification <http://data.vlaanderen.be/id/concept/Verkeersbordcatergorie/737da5751bc7f311398a834f34df310dd95255a0b62afa2db2882c72d54b47d2> ;\n",
            "    ns4:grafischeWeergave <http://localhost/assets/Verkeerslichttrambus.png> .\n",
            "\n",
            "<http://data.vlaanderen.be/id/concept/Verkeerslichtconcept/43beae352a411bbaa01df58701348e0c> a ns4:Verkeerslichtconcept ;\n",
            "    ns1:heeftGerelateerdVerkeerslichtconcept <http://data.vlaanderen.be/id/concept/Verkeerslichtconcept/00fb203200e318350886c833f6c98517>,\n",
            "        <http://data.vlaanderen.be/id/concept/Verkeerslichtconcept/45c13c91557317dd6b7b2b37023a3825>,\n",
            "        <http://data.vlaanderen.be/id/concept/Verkeerslichtconcept/93a2c2671d90c756cc83374fd1bda1ba>,\n",
            "        <http://data.vlaanderen.be/id/concept/Verkeerslichtconcept/d4f97369827bb2c2e841e829dff85312>,\n",
            "        <http://data.vlaanderen.be/id/concept/Verkeerslichtconcept/f6202432ede2ff8b5d6038455776eb0d> ;\n",
            "    ns5:uuid \"43beae352a411bbaa01df58701348e0c\" ;\n",
            "    ns3:termStatus <http://mow.lblod.info/VerkeersbordconceptStatus/de811976b13d96ba62aec77411a88d0ad9afc573221f2c8dee979cd8106ea77b> ;\n",
            "    ns2:definition \"Fietsers lichten oranje pijl\"@nl ;\n",
            "    ns2:inScheme <http://data.vlaanderen.be/id/conceptscheme/Verkeerslichtconcept> ;\n",
            "    ns2:prefLabel \"VL61.1.9\" ;\n",
            "    ns2:scopeNote \"wanneer het bijkomend oranjegeel knipperend verkeerslicht met een fietssilhouet brandt, mogen fietsers en bestuurders van tweewielige bromfietsen het rood of oranjegeel verkeerslicht in de richting van de pijl voorbijrijden. Zij moeten hierbij voorrang verlenen aan de bestuurders die op regelmatige wijze uit andere richtingen komen en aan voetgangers.\"@nl ;\n",
            "    ns2:topConceptOf <http://data.vlaanderen.be/id/conceptscheme/Verkeerslichtconcept> ;\n",
            "    ns6:classification <http://data.vlaanderen.be/id/concept/Verkeersbordcatergorie/737da5751bc7f311398a834f34df310dd95255a0b62afa2db2882c72d54b47d2> ;\n",
            "    ns4:grafischeWeergave <http://localhost/assets/FietserslichtenOranjePijl.png> .\n",
            "\n",
            "<http://data.vlaanderen.be/id/concept/Verkeerslichtconcept/00fb203200e318350886c833f6c98517> a ns4:Verkeerslichtconcept ;\n",
            "    ns1:heeftGerelateerdVerkeerslichtconcept <http://data.vlaanderen.be/id/concept/Verkeerslichtconcept/45c13c91557317dd6b7b2b37023a3825>,\n",
            "        <http://data.vlaanderen.be/id/concept/Verkeerslichtconcept/4fb52503bb8ba0d7c540ae44f33b226e>,\n",
            "        <http://data.vlaanderen.be/id/concept/Verkeerslichtconcept/93a2c2671d90c756cc83374fd1bda1ba>,\n",
            "        <http://data.vlaanderen.be/id/concept/Verkeerslichtconcept/f6202432ede2ff8b5d6038455776eb0d> ;\n",
            "    ns5:uuid \"00fb203200e318350886c833f6c98517\" ;\n",
            "    ns3:termStatus <http://mow.lblod.info/VerkeersbordconceptStatus/de811976b13d96ba62aec77411a88d0ad9afc573221f2c8dee979cd8106ea77b> ;\n",
            "    ns2:definition \"Voetgangerslichten\"@nl ;\n",
            "    ns2:inScheme <http://data.vlaanderen.be/id/conceptscheme/Verkeerslichtconcept> ;\n",
            "    ns2:prefLabel \"VL63.1\" ;\n",
            "    ns2:scopeNote \"de voetgangers moeten de tweekleurige voetgangerslichten opvolgen.\"@nl ;\n",
            "    ns2:topConceptOf <http://data.vlaanderen.be/id/conceptscheme/Verkeerslichtconcept> ;\n",
            "    ns6:classification <http://data.vlaanderen.be/id/concept/Verkeersbordcatergorie/737da5751bc7f311398a834f34df310dd95255a0b62afa2db2882c72d54b47d2> ;\n",
            "    ns4:grafischeWeergave <http://localhost/assets/Voetgangerslichten.png> .\n",
            "\n",
            "<http://data.vlaanderen.be/id/concept/Verkeerslichtconcept/b0befd126d11214456e458e7298650d8> a ns4:Verkeerslichtconcept ;\n",
            "    ns1:heeftGerelateerdVerkeerslichtconcept <http://data.vlaanderen.be/id/concept/Verkeerslichtconcept/45c13c91557317dd6b7b2b37023a3825>,\n",
            "        <http://data.vlaanderen.be/id/concept/Verkeerslichtconcept/93a2c2671d90c756cc83374fd1bda1ba>,\n",
            "        <http://data.vlaanderen.be/id/concept/Verkeerslichtconcept/d4f97369827bb2c2e841e829dff85312>,\n",
            "        <http://data.vlaanderen.be/id/concept/Verkeerslichtconcept/f6202432ede2ff8b5d6038455776eb0d> ;\n",
            "    ns5:uuid \"b0befd126d11214456e458e7298650d8\" ;\n",
            "    ns3:termStatus <http://mow.lblod.info/VerkeersbordconceptStatus/de811976b13d96ba62aec77411a88d0ad9afc573221f2c8dee979cd8106ea77b> ;\n",
            "    ns2:definition \"Fietsers lichten integraal groen kruispunt\"@nl ;\n",
            "    ns2:inScheme <http://data.vlaanderen.be/id/conceptscheme/Verkeerslichtconcept> ;\n",
            "    ns2:prefLabel \"VL61.1.7\" ;\n",
            "    ns2:scopeNote \"de fietsers en bestuurders van tweewielige bromfietsen - indien ze op het fietspad mogen rijden - moeten de driekleurige verkeerslichten opvolgen met het silhouet van een fiets. De lichten gelden gelijktijdig voor de dwarsrichting.\"@nl ;\n",
            "    ns2:topConceptOf <http://data.vlaanderen.be/id/conceptscheme/Verkeerslichtconcept> ;\n",
            "    ns6:classification <http://data.vlaanderen.be/id/concept/Verkeersbordcatergorie/737da5751bc7f311398a834f34df310dd95255a0b62afa2db2882c72d54b47d2> ;\n",
            "    ns4:grafischeWeergave <http://localhost/assets/FietserslichtenIntegraal.png> .\n",
            "\n",
            "<http://data.vlaanderen.be/id/concept/Verkeerslichtconcept/4fb52503bb8ba0d7c540ae44f33b226e> a ns4:Verkeerslichtconcept ;\n",
            "    ns5:uuid \"4fb52503bb8ba0d7c540ae44f33b226e\" ;\n",
            "    ns3:termStatus <http://mow.lblod.info/VerkeersbordconceptStatus/de811976b13d96ba62aec77411a88d0ad9afc573221f2c8dee979cd8106ea77b> ;\n",
            "    ns2:definition \"Fietsers lichten\"@nl ;\n",
            "    ns2:inScheme <http://data.vlaanderen.be/id/conceptscheme/Verkeerslichtconcept> ;\n",
            "    ns2:prefLabel \"VL61.1.6\" ;\n",
            "    ns2:scopeNote \"de fietsers en bestuurders van tweewielige bromfietsen moeten de driekleurige verkeerslichten met het silhouet van een fiets opvolgen.\"@nl ;\n",
            "    ns2:topConceptOf <http://data.vlaanderen.be/id/conceptscheme/Verkeerslichtconcept> ;\n",
            "    ns6:classification <http://data.vlaanderen.be/id/concept/Verkeersbordcatergorie/737da5751bc7f311398a834f34df310dd95255a0b62afa2db2882c72d54b47d2> ;\n",
            "    ns4:grafischeWeergave <http://localhost/assets/Fietserslichten.png> .\n",
            "\n",
            "<http://data.vlaanderen.be/id/concept/Verkeerslichtconcept/d4f97369827bb2c2e841e829dff85312> a ns4:Verkeerslichtconcept ;\n",
            "    ns1:heeftGerelateerdVerkeerslichtconcept <http://data.vlaanderen.be/id/concept/Verkeerslichtconcept/45c13c91557317dd6b7b2b37023a3825>,\n",
            "        <http://data.vlaanderen.be/id/concept/Verkeerslichtconcept/4fb52503bb8ba0d7c540ae44f33b226e>,\n",
            "        <http://data.vlaanderen.be/id/concept/Verkeerslichtconcept/93a2c2671d90c756cc83374fd1bda1ba>,\n",
            "        <http://data.vlaanderen.be/id/concept/Verkeerslichtconcept/b0befd126d11214456e458e7298650d8>,\n",
            "        <http://data.vlaanderen.be/id/concept/Verkeerslichtconcept/f6202432ede2ff8b5d6038455776eb0d> ;\n",
            "    ns5:uuid \"d4f97369827bb2c2e841e829dff85312\" ;\n",
            "    ns3:termStatus <http://mow.lblod.info/VerkeersbordconceptStatus/de811976b13d96ba62aec77411a88d0ad9afc573221f2c8dee979cd8106ea77b> ;\n",
            "    ns2:definition \"Voetgangerslichten integraal groen kruispunt\"@nl ;\n",
            "    ns2:inScheme <http://data.vlaanderen.be/id/conceptscheme/Verkeerslichtconcept> ;\n",
            "    ns2:prefLabel \"VL63.5\" ;\n",
            "    ns2:scopeNote \"de voetgangers moeten de tweekleurige voetgangerslichten opvolgen. De lichten gelden gelijktijdig voor de dwarsrichting.\"@nl ;\n",
            "    ns2:topConceptOf <http://data.vlaanderen.be/id/conceptscheme/Verkeerslichtconcept> ;\n",
            "    ns6:classification <http://data.vlaanderen.be/id/concept/Verkeersbordcatergorie/737da5751bc7f311398a834f34df310dd95255a0b62afa2db2882c72d54b47d2> ;\n",
            "    ns4:grafischeWeergave <http://localhost/assets/VoetgangerslichtenIntegraal.png> .\n",
            "\n",
            "<http://data.vlaanderen.be/id/concept/Verkeerslichtconcept/45c13c91557317dd6b7b2b37023a3825> a ns4:Verkeerslichtconcept ;\n",
            "    ns1:heeftGerelateerdVerkeerslichtconcept <http://data.vlaanderen.be/id/concept/Verkeerslichtconcept/00fb203200e318350886c833f6c98517>,\n",
            "        <http://data.vlaanderen.be/id/concept/Verkeerslichtconcept/4fb52503bb8ba0d7c540ae44f33b226e>,\n",
            "        <http://data.vlaanderen.be/id/concept/Verkeerslichtconcept/93a2c2671d90c756cc83374fd1bda1ba>,\n",
            "        <http://data.vlaanderen.be/id/concept/Verkeerslichtconcept/b0befd126d11214456e458e7298650d8>,\n",
            "        <http://data.vlaanderen.be/id/concept/Verkeerslichtconcept/d4f97369827bb2c2e841e829dff85312>,\n",
            "        <http://data.vlaanderen.be/id/concept/Verkeerslichtconcept/f6202432ede2ff8b5d6038455776eb0d> ;\n",
            "    ns5:uuid \"45c13c91557317dd6b7b2b37023a3825\" ;\n",
            "    ns3:termStatus <http://mow.lblod.info/VerkeersbordconceptStatus/de811976b13d96ba62aec77411a88d0ad9afc573221f2c8dee979cd8106ea77b> ;\n",
            "    ns2:definition \"Driekleurig systeem met cirkelvormige lichten\"@nl ;\n",
            "    ns2:inScheme <http://data.vlaanderen.be/id/conceptscheme/Verkeerslichtconcept> ;\n",
            "    ns2:prefLabel \"VL61.1\" ;\n",
            "    ns2:scopeNote \"de bestuurders moeten de driekleurige verkeerslichten opvolgen.\"@nl ;\n",
            "    ns2:topConceptOf <http://data.vlaanderen.be/id/conceptscheme/Verkeerslichtconcept> ;\n",
            "    ns6:classification <http://data.vlaanderen.be/id/concept/Verkeersbordcatergorie/737da5751bc7f311398a834f34df310dd95255a0b62afa2db2882c72d54b47d2> ;\n",
            "    ns4:grafischeWeergave <http://localhost/assets/DriekleurigVerkeerslichtrond.png> .\n",
            "\n",
            "<http://data.vlaanderen.be/id/concept/Verkeerslichtconcept/93a2c2671d90c756cc83374fd1bda1ba> a ns4:Verkeerslichtconcept ;\n",
            "    ns1:heeftGerelateerdVerkeerslichtconcept <http://data.vlaanderen.be/id/concept/Verkeerslichtconcept/00fb203200e318350886c833f6c98517>,\n",
            "        <http://data.vlaanderen.be/id/concept/Verkeerslichtconcept/45c13c91557317dd6b7b2b37023a3825>,\n",
            "        <http://data.vlaanderen.be/id/concept/Verkeerslichtconcept/4fb52503bb8ba0d7c540ae44f33b226e>,\n",
            "        <http://data.vlaanderen.be/id/concept/Verkeerslichtconcept/b0befd126d11214456e458e7298650d8>,\n",
            "        <http://data.vlaanderen.be/id/concept/Verkeerslichtconcept/d4f97369827bb2c2e841e829dff85312>,\n",
            "        <http://data.vlaanderen.be/id/concept/Verkeerslichtconcept/f6202432ede2ff8b5d6038455776eb0d> ;\n",
            "    ns5:uuid \"93a2c2671d90c756cc83374fd1bda1ba\" ;\n",
            "    ns3:termStatus <http://mow.lblod.info/VerkeersbordconceptStatus/de811976b13d96ba62aec77411a88d0ad9afc573221f2c8dee979cd8106ea77b> ;\n",
            "    ns2:definition \"Driekleurig verkeerslicht met pijlen\"@nl ;\n",
            "    ns2:inScheme <http://data.vlaanderen.be/id/conceptscheme/Verkeerslichtconcept> ;\n",
            "    ns2:prefLabel \"VL61.1.4\" ;\n",
            "    ns2:scopeNote \"de bestuurders moeten de driekleurige verkeerslichten opvolgen. Het verbod of de toelating is beperkt tot de richtingen die door de pijlen aangegeven worden.\"@nl ;\n",
            "    ns2:topConceptOf <http://data.vlaanderen.be/id/conceptscheme/Verkeerslichtconcept> ;\n",
            "    ns6:classification <http://data.vlaanderen.be/id/concept/Verkeersbordcatergorie/737da5751bc7f311398a834f34df310dd95255a0b62afa2db2882c72d54b47d2> ;\n",
            "    ns4:grafischeWeergave <http://localhost/assets/Driekleurigverkeerslichtmetpijl.png> .\n",
            "\n",
            "<http://data.vlaanderen.be/id/concept/Verkeerslichtconcept/f6202432ede2ff8b5d6038455776eb0d> a ns4:Verkeerslichtconcept ;\n",
            "    ns1:heeftGerelateerdVerkeerslichtconcept <http://data.vlaanderen.be/id/concept/Verkeerslichtconcept/00fb203200e318350886c833f6c98517>,\n",
            "        <http://data.vlaanderen.be/id/concept/Verkeerslichtconcept/43beae352a411bbaa01df58701348e0c>,\n",
            "        <http://data.vlaanderen.be/id/concept/Verkeerslichtconcept/45c13c91557317dd6b7b2b37023a3825>,\n",
            "        <http://data.vlaanderen.be/id/concept/Verkeerslichtconcept/4fb52503bb8ba0d7c540ae44f33b226e>,\n",
            "        <http://data.vlaanderen.be/id/concept/Verkeerslichtconcept/93a2c2671d90c756cc83374fd1bda1ba>,\n",
            "        <http://data.vlaanderen.be/id/concept/Verkeerslichtconcept/b0befd126d11214456e458e7298650d8>,\n",
            "        <http://data.vlaanderen.be/id/concept/Verkeerslichtconcept/d4f97369827bb2c2e841e829dff85312> ;\n",
            "    ns5:uuid \"f6202432ede2ff8b5d6038455776eb0d\" ;\n",
            "    ns3:termStatus <http://mow.lblod.info/VerkeersbordconceptStatus/de811976b13d96ba62aec77411a88d0ad9afc573221f2c8dee979cd8106ea77b> ;\n",
            "    ns2:definition \"Ontruimingspijl\"@nl ;\n",
            "    ns2:inScheme <http://data.vlaanderen.be/id/conceptscheme/Verkeerslichtconcept> ;\n",
            "    ns2:prefLabel \"VL62\" ;\n",
            "    ns2:scopeNote \"de bestuurders moeten het kruispunt ontruimen. Het tegenliggend verkeer op de rijbaan die de bestuurders bij het links afslaan gaan verlaten, wordt tegengehouden door een rood licht.\"@nl ;\n",
            "    ns2:topConceptOf <http://data.vlaanderen.be/id/conceptscheme/Verkeerslichtconcept> ;\n",
            "    ns6:classification <http://data.vlaanderen.be/id/concept/Verkeersbordcatergorie/737da5751bc7f311398a834f34df310dd95255a0b62afa2db2882c72d54b47d2> ;\n",
            "    ns4:grafischeWeergave <http://localhost/assets/Ontruimingspijl.png> .\n",
            "\n",
            "\n"
          ],
          "name": "stdout"
        }
      ]
    },
    {
      "cell_type": "code",
      "metadata": {
        "id": "VOTsvoYAf1DE"
      },
      "source": [
        "g.serialize('verkeerslichten.ttl', format='turtle')"
      ],
      "execution_count": null,
      "outputs": []
    },
    {
      "cell_type": "code",
      "metadata": {
        "id": "F_pAuIiUgORM"
      },
      "source": [
        "for index, row in dfm[dfm['TypeBord'] == 'Wegmarkering'].iterrows():\n",
        "  s = row['uri']\n",
        "  f.add((s, RDF.type, URIRef('https://data.vlaanderen.be/ns/mobiliteit#Wegmarkeringconcept')))\n",
        "  f.add((s, URIRef('http://mu.semte.ch/vocabularies/core/uuid'), Literal(row['uuid'])))\n",
        "  #TODO\n",
        "  f.add((s, URIRef('http://www.w3.org/2003/06/sw-vocab-status/ns#termStatus'), URIRef('http://mow.lblod.info/WegmarkeringconceptStatus/de811976b13d96ba62aec77411a88d0ad9afc573221f2c8dee979cd8106ea77b')))\n",
        "  add_literal(f, s, SKOS.definition, row['opschrift'])\n",
        "  add_literal(f, s, SKOS.scopeNote, row['Betekenis'])\n",
        "  f.add((s, SKOS.inScheme, URIRef('http://data.vlaanderen.be/id/conceptscheme/Wegmarkeringconcept')))\n",
        "  f.add((s, SKOS.prefLabel, Literal(row['code'])))\n",
        "  f.add((s, SKOS.topConceptOf, URIRef('http://data.vlaanderen.be/id/conceptscheme/Wegmarkeringconcept')))\n",
        "  #TODO\n",
        "  f.add((s, URIRef('http://www.w3.org/ns/org#classification'), URIRef('http://data.vlaanderen.be/id/concept/Wegmarkeringcatergorie/737da5751bc7f311398a834f34df310dd95255a0b62afa2db2882c72d54b47d2')))\n",
        "  #TODO\n",
        "  f.add((s, URIRef('https://data.vlaanderen.be/ns/mobiliteit#grafischeWeergave'), URIRef('http://localhost/assets/' + row['Icoon'])))\n",
        "  if isinstance(row['related'], URIRef) :\n",
        "    f.add((s, URIRef('http://data.lblod.info/vocabularies/mobiliteit/heeftGerelateerdVerkeersbordconcept'), row['related']))\n",
        "  "
      ],
      "execution_count": null,
      "outputs": []
    },
    {
      "cell_type": "code",
      "metadata": {
        "colab": {
          "base_uri": "https://localhost:8080/"
        },
        "id": "JXmW9ewqWszF",
        "outputId": "e9cc7280-788a-4458-f64e-9bb6a60bd10a"
      },
      "source": [
        "print(f.serialize(format='turtle'))"
      ],
      "execution_count": null,
      "outputs": [
        {
          "output_type": "stream",
          "text": [
            "@prefix ns1: <http://www.w3.org/2004/02/skos/core#> .\n",
            "@prefix ns2: <http://mu.semte.ch/vocabularies/core/> .\n",
            "@prefix ns3: <http://www.w3.org/2003/06/sw-vocab-status/ns#> .\n",
            "@prefix ns4: <http://data.lblod.info/vocabularies/mobiliteit/> .\n",
            "@prefix ns5: <http://www.w3.org/ns/org#> .\n",
            "@prefix ns6: <https://data.vlaanderen.be/ns/mobiliteit#> .\n",
            "\n",
            "<http://data.vlaanderen.be/id/concept/Wegmarkeringsconcept/053e2451065c5bd0946740fe662c2612> a ns6:Wegmarkeringconcept ;\n",
            "    ns4:heeftGerelateerdVerkeersbordconcept <http://data.vlaanderen.be/id/concept/Verkeersbordconcept/e076d4553d8995d0739ad74dc30dbb5cf4095b6c0a9e9a68503e7a7da03f3b9e> ;\n",
            "    ns2:uuid \"053e2451065c5bd0946740fe662c2612\" ;\n",
            "    ns3:termStatus <http://mow.lblod.info/WegmarkeringconceptStatus/de811976b13d96ba62aec77411a88d0ad9afc573221f2c8dee979cd8106ea77b> ;\n",
            "    ns1:definition \"Haaietanden\"@nl ;\n",
            "    ns1:inScheme <http://data.vlaanderen.be/id/conceptscheme/Wegmarkeringconcept> ;\n",
            "    ns1:prefLabel \"WM76.2\" ;\n",
            "    ns1:scopeNote \"Een dwarsstreep gevormd door witte driehoeken, duidt de plaats aan waar de bestuurders, zo nodig, moeten stoppen om voorrang te verlenen ingevolge een verkeersbord B1.\"@nl ;\n",
            "    ns1:topConceptOf <http://data.vlaanderen.be/id/conceptscheme/Wegmarkeringconcept> ;\n",
            "    ns5:classification <http://data.vlaanderen.be/id/concept/Wegmarkeringcatergorie/737da5751bc7f311398a834f34df310dd95255a0b62afa2db2882c72d54b47d2> ;\n",
            "    ns6:grafischeWeergave <http://localhost/assets/mark15.png> .\n",
            "\n",
            "<http://data.vlaanderen.be/id/concept/Wegmarkeringsconcept/10b4bd00273285dfb7c8875d0793ab4f> a ns6:Wegmarkeringconcept ;\n",
            "    ns2:uuid \"10b4bd00273285dfb7c8875d0793ab4f\" ;\n",
            "    ns3:termStatus <http://mow.lblod.info/WegmarkeringconceptStatus/de811976b13d96ba62aec77411a88d0ad9afc573221f2c8dee979cd8106ea77b> ;\n",
            "    ns1:definition \"Fietspad\"@nl ;\n",
            "    ns1:inScheme <http://data.vlaanderen.be/id/conceptscheme/Wegmarkeringconcept> ;\n",
            "    ns1:prefLabel \"WM74\" ;\n",
            "    ns1:scopeNote \"Het deel van de openbare weg dat afgebakend is door twee evenwijdige witte onderbroken strepen en dat niet breed genoeg is voor het autoverkeer, is een fietspad.\"@nl ;\n",
            "    ns1:topConceptOf <http://data.vlaanderen.be/id/conceptscheme/Wegmarkeringconcept> ;\n",
            "    ns5:classification <http://data.vlaanderen.be/id/concept/Wegmarkeringcatergorie/737da5751bc7f311398a834f34df310dd95255a0b62afa2db2882c72d54b47d2> ;\n",
            "    ns6:grafischeWeergave <http://localhost/assets/mark08.png> .\n",
            "\n",
            "<http://data.vlaanderen.be/id/concept/Wegmarkeringsconcept/15e6f7af9ba7162faff36112f2d3f10a> a ns6:Wegmarkeringconcept ;\n",
            "    ns2:uuid \"15e6f7af9ba7162faff36112f2d3f10a\" ;\n",
            "    ns3:termStatus <http://mow.lblod.info/WegmarkeringconceptStatus/de811976b13d96ba62aec77411a88d0ad9afc573221f2c8dee979cd8106ea77b> ;\n",
            "    ns1:definition \"Gele onderbroken streep\"@nl ;\n",
            "    ns1:inScheme <http://data.vlaanderen.be/id/conceptscheme/Wegmarkeringconcept> ;\n",
            "    ns1:prefLabel \"WM75.1.2\" ;\n",
            "    ns1:scopeNote \"Een gele onderbroken streep mag op de werkelijke rand van de rijbaan, op een trottoirband of op de boordsteen van een verhoogde berm aangebracht worden. Langs deze gele streep is het parkeren op de rijbaan verboden.\"@nl ;\n",
            "    ns1:topConceptOf <http://data.vlaanderen.be/id/conceptscheme/Wegmarkeringconcept> ;\n",
            "    ns5:classification <http://data.vlaanderen.be/id/concept/Wegmarkeringcatergorie/737da5751bc7f311398a834f34df310dd95255a0b62afa2db2882c72d54b47d2> ;\n",
            "    ns6:grafischeWeergave <http://localhost/assets/mark10.png> .\n",
            "\n",
            "<http://data.vlaanderen.be/id/concept/Wegmarkeringsconcept/1b97495ca8acf94c3927ec1abf0153b6> a ns6:Wegmarkeringconcept ;\n",
            "    ns2:uuid \"1b97495ca8acf94c3927ec1abf0153b6\" ;\n",
            "    ns3:termStatus <http://mow.lblod.info/WegmarkeringconceptStatus/de811976b13d96ba62aec77411a88d0ad9afc573221f2c8dee979cd8106ea77b> ;\n",
            "    ns1:definition \"Doorlopend en onderbroken\"@nl ;\n",
            "    ns1:inScheme <http://data.vlaanderen.be/id/conceptscheme/Wegmarkeringconcept> ;\n",
            "    ns1:prefLabel \"WM72.4\" ;\n",
            "    ns1:scopeNote \"Wanneer een doorlopende en een onderbroken streep naast elkaar getrokken zijn, moet de bestuurder alleen rekening houden met de streep die zich aan zijn kant bevindt. De bestuurders die deze strepen overschreden hebben om in te halen mogen ze evenwel opnieuw overschrijden om hun normale plaats op de rijbaan te hernemen.\"@nl ;\n",
            "    ns1:topConceptOf <http://data.vlaanderen.be/id/conceptscheme/Wegmarkeringconcept> ;\n",
            "    ns5:classification <http://data.vlaanderen.be/id/concept/Wegmarkeringcatergorie/737da5751bc7f311398a834f34df310dd95255a0b62afa2db2882c72d54b47d2> ;\n",
            "    ns6:grafischeWeergave <http://localhost/assets/mark25.png> .\n",
            "\n",
            "<http://data.vlaanderen.be/id/concept/Wegmarkeringsconcept/202b9afdd4724ae01517ab7585e18953> a ns6:Wegmarkeringconcept ;\n",
            "    ns4:heeftGerelateerdVerkeersbordconcept <http://data.vlaanderen.be/id/concept/Verkeersbordconcept/1b0064d6a66dc26109c3173acb5254c81e508aa875ff16764b6d45cb34ef651a> ;\n",
            "    ns2:uuid \"202b9afdd4724ae01517ab7585e18953\" ;\n",
            "    ns3:termStatus <http://mow.lblod.info/WegmarkeringconceptStatus/de811976b13d96ba62aec77411a88d0ad9afc573221f2c8dee979cd8106ea77b> ;\n",
            "    ns1:definition \"Stopstreep\"@nl ;\n",
            "    ns1:inScheme <http://data.vlaanderen.be/id/conceptscheme/Wegmarkeringconcept> ;\n",
            "    ns1:prefLabel \"WM76.1\" ;\n",
            "    ns1:scopeNote \"Een stopstreep gevormd door een witte doorlopende streep, haaks op de rand van de rijbaan aangebracht duidt de plaats aan waar de bestuurders moeten stoppen ingevolge een verkeersbord B5 of een verkeerslicht.\"@nl ;\n",
            "    ns1:topConceptOf <http://data.vlaanderen.be/id/conceptscheme/Wegmarkeringconcept> ;\n",
            "    ns5:classification <http://data.vlaanderen.be/id/concept/Wegmarkeringcatergorie/737da5751bc7f311398a834f34df310dd95255a0b62afa2db2882c72d54b47d2> ;\n",
            "    ns6:grafischeWeergave <http://localhost/assets/mark14.png> .\n",
            "\n",
            "<http://data.vlaanderen.be/id/concept/Wegmarkeringsconcept/2459b5097db8d047623e0cb56f379b0e> a ns6:Wegmarkeringconcept ;\n",
            "    ns4:heeftGerelateerdVerkeersbordconcept <http://data.vlaanderen.be/id/concept/Verkeersbordconcept/09861a82322efebc4fee09562b36f1a51f70b59d930ed9df4146eef10731398b> ;\n",
            "    ns2:uuid \"2459b5097db8d047623e0cb56f379b0e\" ;\n",
            "    ns3:termStatus <http://mow.lblod.info/WegmarkeringconceptStatus/de811976b13d96ba62aec77411a88d0ad9afc573221f2c8dee979cd8106ea77b> ;\n",
            "    ns1:definition \"Bijzonder overrijdbare bedding\"@nl ;\n",
            "    ns1:inScheme <http://data.vlaanderen.be/id/conceptscheme/Wegmarkeringconcept> ;\n",
            "    ns1:prefLabel \"WM72.5\" ;\n",
            "    ns1:scopeNote \"De rijstrook afgebakend met brede onderbroken strepen en de markering van het woord « BUS » is voorbehouden aan voertuigen van geregelde diensten voor gemeenschappelijk vervoer, taxi’s en voertuigen voor schoolvervoer bedoeld in artikel 39bis.\"@nl ;\n",
            "    ns1:topConceptOf <http://data.vlaanderen.be/id/conceptscheme/Wegmarkeringconcept> ;\n",
            "    ns5:classification <http://data.vlaanderen.be/id/concept/Wegmarkeringcatergorie/737da5751bc7f311398a834f34df310dd95255a0b62afa2db2882c72d54b47d2> ;\n",
            "    ns6:grafischeWeergave <http://localhost/assets/mark06.png> .\n",
            "\n",
            "<http://data.vlaanderen.be/id/concept/Wegmarkeringsconcept/255a79c3bdfe9e209ab60e09ad08644a> a ns6:Wegmarkeringconcept ;\n",
            "    ns2:uuid \"255a79c3bdfe9e209ab60e09ad08644a\" ;\n",
            "    ns3:termStatus <http://mow.lblod.info/WegmarkeringconceptStatus/de811976b13d96ba62aec77411a88d0ad9afc573221f2c8dee979cd8106ea77b> ;\n",
            "    ns1:definition \"Werkelijke rand rijbaan\"@nl ;\n",
            "    ns1:inScheme <http://data.vlaanderen.be/id/conceptscheme/Wegmarkeringconcept> ;\n",
            "    ns1:prefLabel \"WM75.1.1\" ;\n",
            "    ns1:scopeNote \"Een witte, doorlopende streep mag op de werkelijke rand van de rijbaan, op een trottoirband of op de boordsteen van een verhoogde berm aangebracht worden om deze beter zichtbaar te maken.\"@nl ;\n",
            "    ns1:topConceptOf <http://data.vlaanderen.be/id/conceptscheme/Wegmarkeringconcept> ;\n",
            "    ns5:classification <http://data.vlaanderen.be/id/concept/Wegmarkeringcatergorie/737da5751bc7f311398a834f34df310dd95255a0b62afa2db2882c72d54b47d2> ;\n",
            "    ns6:grafischeWeergave <http://localhost/assets/mark23.png> .\n",
            "\n",
            "<http://data.vlaanderen.be/id/concept/Wegmarkeringsconcept/2f57b55f003195ddb2cc90c2b061ab82> a ns6:Wegmarkeringconcept ;\n",
            "    ns2:uuid \"2f57b55f003195ddb2cc90c2b061ab82\" ;\n",
            "    ns3:termStatus <http://mow.lblod.info/WegmarkeringconceptStatus/de811976b13d96ba62aec77411a88d0ad9afc573221f2c8dee979cd8106ea77b> ;\n",
            "    ns1:definition \"Onderbreking doorlopende streep\"@nl ;\n",
            "    ns1:inScheme <http://data.vlaanderen.be/id/conceptscheme/Wegmarkeringconcept> ;\n",
            "    ns1:prefLabel \"mark31\" ;\n",
            "    ns1:scopeNote \"Een doorlopende streep die plaatselijk onderbroken is, betekent dat het iedere bestuurder verboden is deze te overschrijden, behalve om links af te slaan.\"@nl ;\n",
            "    ns1:topConceptOf <http://data.vlaanderen.be/id/conceptscheme/Wegmarkeringconcept> ;\n",
            "    ns5:classification <http://data.vlaanderen.be/id/concept/Wegmarkeringcatergorie/737da5751bc7f311398a834f34df310dd95255a0b62afa2db2882c72d54b47d2> ;\n",
            "    ns6:grafischeWeergave <http://localhost/assets/mark31.png> .\n",
            "\n",
            "<http://data.vlaanderen.be/id/concept/Wegmarkeringsconcept/34b31ed053d2b54d905867eddeeb7bcf> a ns6:Wegmarkeringconcept ;\n",
            "    ns2:uuid \"34b31ed053d2b54d905867eddeeb7bcf\" ;\n",
            "    ns3:termStatus <http://mow.lblod.info/WegmarkeringconceptStatus/de811976b13d96ba62aec77411a88d0ad9afc573221f2c8dee979cd8106ea77b> ;\n",
            "    ns1:definition \"Oversteekplaats voor voetgangers\"@nl ;\n",
            "    ns1:inScheme <http://data.vlaanderen.be/id/conceptscheme/Wegmarkeringconcept> ;\n",
            "    ns1:prefLabel \"WM76.3\" ;\n",
            "    ns1:scopeNote \"Zebrapad. De oversteekplaatsen voor voetgangers worden afgebakend door witte banden, evenwijdig met de as van de rijbaan.\"@nl ;\n",
            "    ns1:topConceptOf <http://data.vlaanderen.be/id/conceptscheme/Wegmarkeringconcept> ;\n",
            "    ns5:classification <http://data.vlaanderen.be/id/concept/Wegmarkeringcatergorie/737da5751bc7f311398a834f34df310dd95255a0b62afa2db2882c72d54b47d2> ;\n",
            "    ns6:grafischeWeergave <http://localhost/assets/mark16.png> .\n",
            "\n",
            "<http://data.vlaanderen.be/id/concept/Wegmarkeringsconcept/3643bf425d87dd787415022f5334b8f7> a ns6:Wegmarkeringconcept ;\n",
            "    ns2:uuid \"3643bf425d87dd787415022f5334b8f7\" ;\n",
            "    ns3:termStatus <http://mow.lblod.info/WegmarkeringconceptStatus/de811976b13d96ba62aec77411a88d0ad9afc573221f2c8dee979cd8106ea77b> ;\n",
            "    ns1:definition \"Oversteekplaats voor fietsers\"@nl ;\n",
            "    ns1:inScheme <http://data.vlaanderen.be/id/conceptscheme/Wegmarkeringconcept> ;\n",
            "    ns1:prefLabel \"WM76.4\" ;\n",
            "    ns1:scopeNote \"De oversteekplaatsen die de fietsers en bestuurders van tweewielige bromfietsen moeten volgen om de rijbaan over te steken, worden afgebakend door twee onderbroken strepen gevormd door witte vierkanten of parallellogrammen.\"@nl ;\n",
            "    ns1:topConceptOf <http://data.vlaanderen.be/id/conceptscheme/Wegmarkeringconcept> ;\n",
            "    ns5:classification <http://data.vlaanderen.be/id/concept/Wegmarkeringcatergorie/737da5751bc7f311398a834f34df310dd95255a0b62afa2db2882c72d54b47d2> ;\n",
            "    ns6:grafischeWeergave <http://localhost/assets/mark17.png> .\n",
            "\n",
            "<http://data.vlaanderen.be/id/concept/Wegmarkeringsconcept/4123c0242ec486d3ab4c91c290ef2f18> a ns6:Wegmarkeringconcept ;\n",
            "    ns2:uuid \"4123c0242ec486d3ab4c91c290ef2f18\" ;\n",
            "    ns3:termStatus <http://mow.lblod.info/WegmarkeringconceptStatus/de811976b13d96ba62aec77411a88d0ad9afc573221f2c8dee979cd8106ea77b> ;\n",
            "    ns1:definition \"Opstelvak voor fietsers\"@nl ;\n",
            "    ns1:inScheme <http://data.vlaanderen.be/id/conceptscheme/Wegmarkeringconcept> ;\n",
            "    ns1:prefLabel \"WM77.6\" ;\n",
            "    ns1:scopeNote \"Markeringen die een opstelvak aanduiden voor fietsers en bestuurders van tweewielige bromfietsen. De zone, aansluitend op een fietspad, afgebakend door twee stopstrepen en waarin het symbool van een fiets in het wit is gereproduceerd duidt de plaats aan waar de fietsers en bestuurders van tweewielige bromfietsen zich enkel tijdens de rode fase van de verkeerslichten mogen opstellen. De andere bestuurders moeten tijdens de rode fase van de verkeerslichten stoppen voor de eerste stopstreep.\"@nl ;\n",
            "    ns1:topConceptOf <http://data.vlaanderen.be/id/conceptscheme/Wegmarkeringconcept> ;\n",
            "    ns5:classification <http://data.vlaanderen.be/id/concept/Wegmarkeringcatergorie/737da5751bc7f311398a834f34df310dd95255a0b62afa2db2882c72d54b47d2> ;\n",
            "    ns6:grafischeWeergave <http://localhost/assets/mark13.png> .\n",
            "\n",
            "<http://data.vlaanderen.be/id/concept/Wegmarkeringsconcept/68decc688d862a9ff700c181b67b6bb4> a ns6:Wegmarkeringconcept ;\n",
            "    ns2:uuid \"68decc688d862a9ff700c181b67b6bb4\" ;\n",
            "    ns3:termStatus <http://mow.lblod.info/WegmarkeringconceptStatus/de811976b13d96ba62aec77411a88d0ad9afc573221f2c8dee979cd8106ea77b> ;\n",
            "    ns1:definition \"Dambordmarkering\"@nl ;\n",
            "    ns1:inScheme <http://data.vlaanderen.be/id/conceptscheme/Wegmarkeringconcept> ;\n",
            "    ns1:prefLabel \"WM77.8\" ;\n",
            "    ns1:scopeNote \"De dambordmarkering die bestaat uit witte vierkanten bakent de plaats af voorbehouden aan voertuigen van geregelde diensten voor gemeenschappelijk vervoer op een bijzondere overrijdbare bedding of de plaats die eigen beddingen en bijzondere overrijdbare beddingen met elkaar verbinden. Stilstaan en parkeren op deze markering is verboden.\"@nl ;\n",
            "    ns1:topConceptOf <http://data.vlaanderen.be/id/conceptscheme/Wegmarkeringconcept> ;\n",
            "    ns5:classification <http://data.vlaanderen.be/id/concept/Wegmarkeringcatergorie/737da5751bc7f311398a834f34df310dd95255a0b62afa2db2882c72d54b47d2> ;\n",
            "    ns6:grafischeWeergave <http://localhost/assets/mark30.png> .\n",
            "\n",
            "<http://data.vlaanderen.be/id/concept/Wegmarkeringsconcept/6e4088cc35ae34f65b8a1ba4350ce26e> a ns6:Wegmarkeringconcept ;\n",
            "    ns2:uuid \"6e4088cc35ae34f65b8a1ba4350ce26e\" ;\n",
            "    ns3:termStatus <http://mow.lblod.info/WegmarkeringconceptStatus/de811976b13d96ba62aec77411a88d0ad9afc573221f2c8dee979cd8106ea77b> ;\n",
            "    ns1:definition \"Verkeersgeleider\"@nl ;\n",
            "    ns1:inScheme <http://data.vlaanderen.be/id/conceptscheme/Wegmarkeringconcept> ;\n",
            "    ns1:prefLabel \"WM77.4\" ;\n",
            "    ns1:scopeNote \"Verkeersgeleiders en verdrijvingsvlakken mogen op de grond worden aangebracht door witte evenwijdige schuine strepen. De bestuurders mogen niet rijden, stilstaan of parkeren op deze markeringen.\"@nl ;\n",
            "    ns1:topConceptOf <http://data.vlaanderen.be/id/conceptscheme/Wegmarkeringconcept> ;\n",
            "    ns5:classification <http://data.vlaanderen.be/id/concept/Wegmarkeringcatergorie/737da5751bc7f311398a834f34df310dd95255a0b62afa2db2882c72d54b47d2> ;\n",
            "    ns6:grafischeWeergave <http://localhost/assets/mark09.png> .\n",
            "\n",
            "<http://data.vlaanderen.be/id/concept/Wegmarkeringsconcept/781fcd2bf57c055cbfe5bcca20c59844> a ns6:Wegmarkeringconcept ;\n",
            "    ns2:uuid \"781fcd2bf57c055cbfe5bcca20c59844\" ;\n",
            "    ns3:termStatus <http://mow.lblod.info/WegmarkeringconceptStatus/de811976b13d96ba62aec77411a88d0ad9afc573221f2c8dee979cd8106ea77b> ;\n",
            "    ns1:definition \"Onderbroken streep\"@nl ;\n",
            "    ns1:inScheme <http://data.vlaanderen.be/id/conceptscheme/Wegmarkeringconcept> ;\n",
            "    ns1:prefLabel \"WM72.3\" ;\n",
            "    ns1:scopeNote \"Een onderbroken streep betekent dat het iedere bestuurder verboden is deze te overschrijden, behalve om in te halen, om links af te slaan, om te keren of om van rijstrook te veranderen.\"@nl ;\n",
            "    ns1:topConceptOf <http://data.vlaanderen.be/id/conceptscheme/Wegmarkeringconcept> ;\n",
            "    ns5:classification <http://data.vlaanderen.be/id/concept/Wegmarkeringcatergorie/737da5751bc7f311398a834f34df310dd95255a0b62afa2db2882c72d54b47d2> ;\n",
            "    ns6:grafischeWeergave <http://localhost/assets/mark21.png> .\n",
            "\n",
            "<http://data.vlaanderen.be/id/concept/Wegmarkeringsconcept/856f62df763d7aa4da01359187e7d17d> a ns6:Wegmarkeringconcept ;\n",
            "    ns2:uuid \"856f62df763d7aa4da01359187e7d17d\" ;\n",
            "    ns3:termStatus <http://mow.lblod.info/WegmarkeringconceptStatus/de811976b13d96ba62aec77411a88d0ad9afc573221f2c8dee979cd8106ea77b> ;\n",
            "    ns1:definition \"Spitsstrook\"@nl ;\n",
            "    ns1:inScheme <http://data.vlaanderen.be/id/conceptscheme/Wegmarkeringconcept> ;\n",
            "    ns1:prefLabel \"WM72.7\" ;\n",
            "    ns1:scopeNote \"Een onderbroken streep met kortere tussenafstanden en langere trekken dan de rijstrookmarkering bedoeld in artikel 72.3, bakent een spitsstrook af.\"@nl ;\n",
            "    ns1:topConceptOf <http://data.vlaanderen.be/id/conceptscheme/Wegmarkeringconcept> ;\n",
            "    ns5:classification <http://data.vlaanderen.be/id/concept/Wegmarkeringcatergorie/737da5751bc7f311398a834f34df310dd95255a0b62afa2db2882c72d54b47d2> ;\n",
            "    ns6:grafischeWeergave <http://localhost/assets/mark32.png> .\n",
            "\n",
            "<http://data.vlaanderen.be/id/concept/Wegmarkeringsconcept/9179cde8679045eede189507de51789a> a ns6:Wegmarkeringconcept ;\n",
            "    ns2:uuid \"9179cde8679045eede189507de51789a\" ;\n",
            "    ns3:termStatus <http://mow.lblod.info/WegmarkeringconceptStatus/de811976b13d96ba62aec77411a88d0ad9afc573221f2c8dee979cd8106ea77b> ;\n",
            "    ns1:definition \"Denkbeeldige rand rijbaan\"@nl ;\n",
            "    ns1:inScheme <http://data.vlaanderen.be/id/conceptscheme/Wegmarkeringconcept> ;\n",
            "    ns1:prefLabel \"WM75.2\" ;\n",
            "    ns1:scopeNote \"Een brede witte doorlopende streep mag op de rijbaan aangebracht worden om de denkbeeldige rand van die rijbaan aan te duiden. Het aan de andere kant van deze streep gelegen deel van de openbare weg is voorbehouden voor het stilstaan en parkeren, behalve op autosnelwegen en autowegen.Het begin en het einde van deze parkeerzone mogen aangeduid worden door een witte doorlopende dwarsstreep.\"@nl ;\n",
            "    ns1:topConceptOf <http://data.vlaanderen.be/id/conceptscheme/Wegmarkeringconcept> ;\n",
            "    ns5:classification <http://data.vlaanderen.be/id/concept/Wegmarkeringcatergorie/737da5751bc7f311398a834f34df310dd95255a0b62afa2db2882c72d54b47d2> ;\n",
            "    ns6:grafischeWeergave <http://localhost/assets/mark12.png> .\n",
            "\n",
            "<http://data.vlaanderen.be/id/concept/Wegmarkeringsconcept/a478a6e52ee388590b5c46fcf84bb4d0> a ns6:Wegmarkeringconcept ;\n",
            "    ns2:uuid \"a478a6e52ee388590b5c46fcf84bb4d0\" ;\n",
            "    ns3:termStatus <http://mow.lblod.info/WegmarkeringconceptStatus/de811976b13d96ba62aec77411a88d0ad9afc573221f2c8dee979cd8106ea77b> ;\n",
            "    ns1:definition \"Parkeerplaats\"@nl ;\n",
            "    ns1:inScheme <http://data.vlaanderen.be/id/conceptscheme/Wegmarkeringconcept> ;\n",
            "    ns1:prefLabel \"WM77.5\" ;\n",
            "    ns1:scopeNote \"In een parkeerzone mogen witte markeringen de plaatsen afbakenen waar de voertuigen moeten staan.\"@nl ;\n",
            "    ns1:topConceptOf <http://data.vlaanderen.be/id/conceptscheme/Wegmarkeringconcept> ;\n",
            "    ns5:classification <http://data.vlaanderen.be/id/concept/Wegmarkeringcatergorie/737da5751bc7f311398a834f34df310dd95255a0b62afa2db2882c72d54b47d2> ;\n",
            "    ns6:grafischeWeergave <http://localhost/assets/mark11.png> .\n",
            "\n",
            "<http://data.vlaanderen.be/id/concept/Wegmarkeringsconcept/bec46e9faa5af0b8da32e4f2d45df471> a ns6:Wegmarkeringconcept ;\n",
            "    ns4:heeftGerelateerdVerkeersbordconcept <http://data.vlaanderen.be/id/concept/Verkeersbordconcept/1a87027d46dd7d4a3cd3084db904dfe5d22e0cb0ae7dcc47ebed18eec7e52f81> ;\n",
            "    ns2:uuid \"bec46e9faa5af0b8da32e4f2d45df471\" ;\n",
            "    ns3:termStatus <http://mow.lblod.info/WegmarkeringconceptStatus/de811976b13d96ba62aec77411a88d0ad9afc573221f2c8dee979cd8106ea77b> ;\n",
            "    ns1:definition \"Doorlopende streep\"@nl ;\n",
            "    ns1:inScheme <http://data.vlaanderen.be/id/conceptscheme/Wegmarkeringconcept> ;\n",
            "    ns1:prefLabel \"WM72.2\" ;\n",
            "    ns1:scopeNote \"Een doorlopende streep betekent dat het iedere bestuurder verboden is deze te overschrijden. Bovendien is het verboden links van een doorlopende streep te rijden wanneer deze de twee rijrichtingen scheidt.\"@nl ;\n",
            "    ns1:topConceptOf <http://data.vlaanderen.be/id/conceptscheme/Wegmarkeringconcept> ;\n",
            "    ns5:classification <http://data.vlaanderen.be/id/concept/Wegmarkeringcatergorie/737da5751bc7f311398a834f34df310dd95255a0b62afa2db2882c72d54b47d2> ;\n",
            "    ns6:grafischeWeergave <http://localhost/assets/mark22.png> .\n",
            "\n",
            "<http://data.vlaanderen.be/id/concept/Wegmarkeringsconcept/c58dbccc1894cd8e316d13bd4193bbdb> a ns6:Wegmarkeringconcept ;\n",
            "    ns4:heeftGerelateerdVerkeersbordconcept <http://data.vlaanderen.be/id/concept/Verkeersbordconcept/adf551bbe4b45fb09fe65bbd515889acb611157d02385990ea44406c29376eef> ;\n",
            "    ns2:uuid \"c58dbccc1894cd8e316d13bd4193bbdb\" ;\n",
            "    ns3:termStatus <http://mow.lblod.info/WegmarkeringconceptStatus/de811976b13d96ba62aec77411a88d0ad9afc573221f2c8dee979cd8106ea77b> ;\n",
            "    ns1:definition \"Rijstrookverminderingspijlen\"@nl ;\n",
            "    ns1:inScheme <http://data.vlaanderen.be/id/conceptscheme/Wegmarkeringconcept> ;\n",
            "    ns1:prefLabel \"WM77.2\" ;\n",
            "    ns1:scopeNote \"De onderbroken streep die het naderen van een doorlopende streep aankondigt mag aangevuld worden met witte rijstrookverminderingspijlen. Deze pijlen kondigen een vermindering van het aantal rijstroken aan die in de gevolgde richting mogen gebruikt worden.\"@nl ;\n",
            "    ns1:topConceptOf <http://data.vlaanderen.be/id/conceptscheme/Wegmarkeringconcept> ;\n",
            "    ns5:classification <http://data.vlaanderen.be/id/concept/Wegmarkeringcatergorie/737da5751bc7f311398a834f34df310dd95255a0b62afa2db2882c72d54b47d2> ;\n",
            "    ns6:grafischeWeergave <http://localhost/assets/mark19.png> .\n",
            "\n",
            "<http://data.vlaanderen.be/id/concept/Wegmarkeringsconcept/dd1cc83a59b31d835a0fb0dfcd791351> a ns6:Wegmarkeringconcept ;\n",
            "    ns4:heeftGerelateerdVerkeersbordconcept <http://data.vlaanderen.be/id/concept/Verkeersbordconcept/4bab5d3b6d4cdfa0d66dcc14ee7107275e2e71e14aa7940e51bc3e94d804c993> ;\n",
            "    ns2:uuid \"dd1cc83a59b31d835a0fb0dfcd791351\" ;\n",
            "    ns3:termStatus <http://mow.lblod.info/WegmarkeringconceptStatus/de811976b13d96ba62aec77411a88d0ad9afc573221f2c8dee979cd8106ea77b> ;\n",
            "    ns1:definition \"Busstrook\"@nl ;\n",
            "    ns1:inScheme <http://data.vlaanderen.be/id/conceptscheme/Wegmarkeringconcept> ;\n",
            "    ns1:prefLabel \"WM72.6\" ;\n",
            "    ns1:scopeNote \"Een of meerdere brede witte doorlopende strepen of de markering, bedoeld in artikel 77.8, bakenen de bijzondere overrijdbare bedding af die voorbehouden is aan voertuigen van geregelde diensten voor gemeenschappelijk vervoer.\"@nl ;\n",
            "    ns1:topConceptOf <http://data.vlaanderen.be/id/conceptscheme/Wegmarkeringconcept> ;\n",
            "    ns5:classification <http://data.vlaanderen.be/id/concept/Wegmarkeringcatergorie/737da5751bc7f311398a834f34df310dd95255a0b62afa2db2882c72d54b47d2> ;\n",
            "    ns6:grafischeWeergave <http://localhost/assets/mark07.png> .\n",
            "\n",
            "<http://data.vlaanderen.be/id/concept/Wegmarkeringsconcept/e735019fc999d0180cdb4afb2ea6b75a> a ns6:Wegmarkeringconcept ;\n",
            "    ns2:uuid \"e735019fc999d0180cdb4afb2ea6b75a\" ;\n",
            "    ns3:termStatus <http://mow.lblod.info/WegmarkeringconceptStatus/de811976b13d96ba62aec77411a88d0ad9afc573221f2c8dee979cd8106ea77b> ;\n",
            "    ns1:definition \"Voorsorteringspijlen\"@nl ;\n",
            "    ns1:inScheme <http://data.vlaanderen.be/id/conceptscheme/Wegmarkeringconcept> ;\n",
            "    ns1:prefLabel \"WM77.1\" ;\n",
            "    ns1:scopeNote \"Witte voorsorteringspijlen mogen bij het naderen van een kruispunt aangebracht worden. Deze pijlen duiden de rijstrook aan die de bestuurders moeten volgen om in de door de pijlen aangewezen richting te rijden. Op het kruispunt moeten de bestuurders bovendien de of één van de richtingen volgen die aangewezen zijn op de rijstrook waarin zij zich bevinden.\"@nl ;\n",
            "    ns1:topConceptOf <http://data.vlaanderen.be/id/conceptscheme/Wegmarkeringconcept> ;\n",
            "    ns5:classification <http://data.vlaanderen.be/id/concept/Wegmarkeringcatergorie/737da5751bc7f311398a834f34df310dd95255a0b62afa2db2882c72d54b47d2> ;\n",
            "    ns6:grafischeWeergave <http://localhost/assets/mark18.png> .\n",
            "\n",
            "<http://data.vlaanderen.be/id/concept/Wegmarkeringsconcept/ebceed6fcd1ff71b5d703cf63b2dc031> a ns6:Wegmarkeringconcept ;\n",
            "    ns2:uuid \"ebceed6fcd1ff71b5d703cf63b2dc031\" ;\n",
            "    ns3:termStatus <http://mow.lblod.info/WegmarkeringconceptStatus/de811976b13d96ba62aec77411a88d0ad9afc573221f2c8dee979cd8106ea77b> ;\n",
            "    ns1:definition \"Bushalte\"@nl ;\n",
            "    ns1:inScheme <http://data.vlaanderen.be/id/conceptscheme/Wegmarkeringconcept> ;\n",
            "    ns1:prefLabel \"WM77.3\" ;\n",
            "    ns1:scopeNote \"Witte opschriften op de rijbaan mogen de door verkeersborden gegeven aanwijzingen herhalen. De verschillende richtingen mogen op de rijstroken aangeduid worden. Aan de autobus-, trolleybus- en tramhalten mag de zone waar het parkeren verboden is overeenkomstig artikel 25.1.2° aangeduid worden door witte opschriften.\"@nl ;\n",
            "    ns1:topConceptOf <http://data.vlaanderen.be/id/conceptscheme/Wegmarkeringconcept> ;\n",
            "    ns5:classification <http://data.vlaanderen.be/id/concept/Wegmarkeringcatergorie/737da5751bc7f311398a834f34df310dd95255a0b62afa2db2882c72d54b47d2> ;\n",
            "    ns6:grafischeWeergave <http://localhost/assets/mark20.png> .\n",
            "\n",
            "<http://data.vlaanderen.be/id/concept/Wegmarkeringsconcept/ff5c9ba794c4786953a3b3063f933f38> a ns6:Wegmarkeringconcept ;\n",
            "    ns2:uuid \"ff5c9ba794c4786953a3b3063f933f38\" ;\n",
            "    ns3:termStatus <http://mow.lblod.info/WegmarkeringconceptStatus/de811976b13d96ba62aec77411a88d0ad9afc573221f2c8dee979cd8106ea77b> ;\n",
            "    ns1:definition \"Onderbroken trekken dichter bij elkaar\"@nl ;\n",
            "    ns1:inScheme <http://data.vlaanderen.be/id/conceptscheme/Wegmarkeringconcept> ;\n",
            "    ns1:prefLabel \"WM72.3.b\" ;\n",
            "    ns1:scopeNote \"Wanneer de trekken van de onderbroken streep korter zijn en dichter bij elkaar getrokken, kondigen zij het naderen van een doorlopende streep aan.\"@nl ;\n",
            "    ns1:topConceptOf <http://data.vlaanderen.be/id/conceptscheme/Wegmarkeringconcept> ;\n",
            "    ns5:classification <http://data.vlaanderen.be/id/concept/Wegmarkeringcatergorie/737da5751bc7f311398a834f34df310dd95255a0b62afa2db2882c72d54b47d2> ;\n",
            "    ns6:grafischeWeergave <http://localhost/assets/mark03.png> .\n",
            "\n",
            "\n"
          ],
          "name": "stdout"
        }
      ]
    },
    {
      "cell_type": "code",
      "metadata": {
        "id": "5mEwagWTW56r"
      },
      "source": [
        "f.serialize('wegmarkeringen.ttl', format='turtle')"
      ],
      "execution_count": null,
      "outputs": []
    },
    {
      "cell_type": "code",
      "metadata": {
        "id": "I8JbMOA4SOkF"
      },
      "source": [
        ""
      ],
      "execution_count": null,
      "outputs": []
    },
    {
      "cell_type": "code",
      "metadata": {
        "id": "qX4xeIhWYyao"
      },
      "source": [
        ""
      ],
      "execution_count": null,
      "outputs": []
    }
  ]
}